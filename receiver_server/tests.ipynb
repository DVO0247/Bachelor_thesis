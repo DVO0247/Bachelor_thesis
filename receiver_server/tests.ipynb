{
 "cells": [
  {
   "cell_type": "code",
   "execution_count": null,
   "metadata": {},
   "outputs": [],
   "source": [
    "fs1 = frozenset(x**2 for x in range(100))\n",
    "fs2 = frozenset(x*2 for x in range(100))\n",
    "print(fs2&fs1)"
   ]
  },
  {
   "cell_type": "code",
   "execution_count": 2,
   "metadata": {},
   "outputs": [],
   "source": [
    "import sqlite3\n",
    "PATH = r'..\\data\\2_Projekt 1\\30_esp1\\0_pi\\53_2024-12-30T18-08-57.db'\n",
    "conn = sqlite3.connect(PATH)\n",
    "cur = conn.cursor()\n",
    "conn.close()"
   ]
  },
  {
   "cell_type": "code",
   "execution_count": null,
   "metadata": {},
   "outputs": [],
   "source": [
    "from pathlib import Path\n",
    "print(tuple(parent for parent in Path().resolve().parents))\n"
   ]
  },
  {
   "cell_type": "code",
   "execution_count": 22,
   "metadata": {},
   "outputs": [],
   "source": [
    "from datetime import datetime\n",
    "from functools import lru_cache\n",
    "\n",
    "def add_params(*add_args):\n",
    "    def decorator(func):\n",
    "        def wrapper(*args, **kwargs):\n",
    "            return func(*args, *add_args, **kwargs)\n",
    "        return wrapper\n",
    "    return decorator\n",
    "\n",
    "@lru_cache(128)\n",
    "def convert_datetime_for_path(_datetime:datetime)->str:\n",
    "    return _datetime.strftime(\"%Y-%m-%dT%H-%M-%S\")"
   ]
  },
  {
   "cell_type": "code",
   "execution_count": null,
   "metadata": {},
   "outputs": [],
   "source": [
    "now = datetime.now()\n",
    "for i in range(1_000_000):\n",
    "    convert_datetime_for_path(now)"
   ]
  },
  {
   "cell_type": "code",
   "execution_count": 37,
   "metadata": {},
   "outputs": [],
   "source": [
    "def x(a):\n",
    "    return a"
   ]
  },
  {
   "cell_type": "code",
   "execution_count": null,
   "metadata": {},
   "outputs": [],
   "source": [
    "x100 = add_params(100)(x)\n",
    "print(x100())"
   ]
  },
  {
   "cell_type": "code",
   "execution_count": null,
   "metadata": {},
   "outputs": [],
   "source": [
    "import platform\n",
    "print(platform.python_implementation())"
   ]
  },
  {
   "cell_type": "code",
   "execution_count": null,
   "metadata": {},
   "outputs": [],
   "source": [
    "from pathlib import Path\n",
    "Path('ggg/gg:::').remo"
   ]
  },
  {
   "cell_type": "code",
   "execution_count": null,
   "metadata": {},
   "outputs": [],
   "source": [
    "print('[\\\\/:\"*?<>|]+')"
   ]
  },
  {
   "cell_type": "code",
   "execution_count": 55,
   "metadata": {},
   "outputs": [
    {
     "name": "stdout",
     "output_type": "stream",
     "text": [
      "5\n"
     ]
    }
   ],
   "source": [
    "from dataclasses import dataclass\n",
    "from abc import ABC, abstractmethod\n",
    "from typing import ClassVar\n",
    "from enum import Enum\n",
    "\n",
    "ENC = 'ascii'\n",
    "MAX_SAMPLES_PER_PACKET = 121\n",
    "\n",
    "class MessageTypeByte:\n",
    "    class Server:\n",
    "        REQUEST_INFO = 0x00\n",
    "        SET_SENSOR_PARAMETERS = 0x01\n",
    "    class Client:\n",
    "        KEEP_ALIVE = 0x00\n",
    "        INFO = 0x01\n",
    "        SENSOR_SAMPLES = 0x02\n",
    "        ACK = 0x03\n",
    "\n",
    "class ServerMessage:\n",
    "    @dataclass\n",
    "    class Base(ABC):\n",
    "        MESSAGE_TYPE_BYTE:ClassVar[int]\n",
    "\n",
    "        @abstractmethod\n",
    "        def to_bytes(self) -> bytes:\n",
    "            pass\n",
    "\n",
    "    @dataclass\n",
    "    class RequestInfo(Base):\n",
    "        MESSAGE_TYPE_BYTE = MessageTypeByte.Server.REQUEST_INFO\n",
    "\n",
    "        _bytes = MESSAGE_TYPE_BYTE.to_bytes(1, byteorder='little')\n",
    "        def to_bytes(self) -> bytes:\n",
    "            return self._bytes\n",
    "\n",
    "    @dataclass\n",
    "    class SetSensorParameters(Base):\n",
    "        sensor_id:int\n",
    "        sample_period_ms:int\n",
    "        samples_per_packet:int\n",
    "\n",
    "        MESSAGE_TYPE_BYTE = MessageTypeByte.Server.SET_SENSOR_PARAMETERS\n",
    "\n",
    "        def to_bytes(self) -> bytes:\n",
    "            if self.samples_per_packet > MAX_SAMPLES_PER_PACKET:\n",
    "                raise Exception(F'Max samples per packet is {MAX_SAMPLES_PER_PACKET}')\n",
    "            else:\n",
    "                return self.MESSAGE_TYPE_BYTE.to_bytes(1, byteorder='little') + self.sensor_id.to_bytes(1, byteorder='little') + self.sample_period_ms.to_bytes(4, byteorder='little') + self.samples_per_packet.to_bytes(1, byteorder='little')\n",
    "\n",
    "obj = ServerMessage.SetSensorParameters(1,2,3)\n",
    "obj.sample_period_ms\n",
    "ServerMessage.SetSensorParameters.MESSAGE_TYPE_BYTE = 0x05\n",
    "print(obj.MESSAGE_TYPE_BYTE)\n",
    "#print('\\n'.join(dir(obj)))"
   ]
  },
  {
   "cell_type": "code",
   "execution_count": 53,
   "metadata": {},
   "outputs": [
    {
     "name": "stdout",
     "output_type": "stream",
     "text": [
      "529344067295497451\n"
     ]
    }
   ],
   "source": [
    "print(hash(obj))"
   ]
  },
  {
   "cell_type": "code",
   "execution_count": null,
   "metadata": {},
   "outputs": [],
   "source": [
    "from enum import Enum\n",
    "\n",
    "class MessageTypeByte:\n",
    "    class Server(Enum):\n",
    "        REQUEST_INFO = 0x00\n",
    "        SET_SENSOR_PARAMETERS = 0x01\n",
    "    class Client(Enum):\n",
    "        KEEP_ALIVE = 0x00\n",
    "        INFO = 0x01\n",
    "        SENSOR_SAMPLES = 0x02\n",
    "        ACK = 0x03\n",
    "\n",
    "for name in map(lambda x: (x.name, x.value), MessageTypeByte.Client):\n",
    "    print(name)"
   ]
  },
  {
   "cell_type": "code",
   "execution_count": 8,
   "metadata": {},
   "outputs": [
    {
     "name": "stdout",
     "output_type": "stream",
     "text": [
      "0.41662369999903603\n",
      "0.6339364000014029\n"
     ]
    }
   ],
   "source": [
    "import time\n",
    "\n",
    "SIZE = 10**7\n",
    "\n",
    "start = time.perf_counter()\n",
    "x = [i for i in range(SIZE)]\n",
    "end = time.perf_counter()\n",
    "print(end-start)\n",
    "\n",
    "start = time.perf_counter()\n",
    "x = tuple(i for i in range(SIZE))\n",
    "end = time.perf_counter()\n",
    "print(end-start)"
   ]
  },
  {
   "cell_type": "code",
   "execution_count": 13,
   "metadata": {},
   "outputs": [
    {
     "name": "stdout",
     "output_type": "stream",
     "text": [
      "3.6316986000019824\n",
      "2.3764985999987402\n"
     ]
    }
   ],
   "source": [
    "import time\n",
    "\n",
    "SIZE = 10**8\n",
    "\n",
    "x = [i for i in range(SIZE)]\n",
    "start = time.perf_counter()\n",
    "for i in x:\n",
    "    pass\n",
    "end = time.perf_counter()\n",
    "print(end-start)\n",
    "\n",
    "x = tuple(x)\n",
    "start = time.perf_counter()\n",
    "for i in x:\n",
    "    pass\n",
    "end = time.perf_counter()\n",
    "print(end-start)"
   ]
  },
  {
   "cell_type": "code",
   "execution_count": 31,
   "metadata": {},
   "outputs": [
    {
     "name": "stdout",
     "output_type": "stream",
     "text": [
      "8.955207999999402\n",
      "6.41087989999869\n"
     ]
    }
   ],
   "source": [
    "from dataclasses import dataclass\n",
    "import time\n",
    "\n",
    "SIZE = 10**7\n",
    "\n",
    "class X:\n",
    "    def __init__(self, a:int, b:int, c:int) -> None:\n",
    "        self.a = a\n",
    "        self.b = b\n",
    "        self.c = c\n",
    "\n",
    "@dataclass\n",
    "class DCX:\n",
    "    a:int\n",
    "    b:int\n",
    "    c:int\n",
    "\n",
    "x = None\n",
    "\n",
    "start = time.perf_counter()\n",
    "x = [X(i,i,i) for i in range(SIZE)]\n",
    "end = time.perf_counter()\n",
    "print(end-start)\n",
    "\n",
    "x = None\n",
    "\n",
    "start = time.perf_counter()\n",
    "x = [DCX(i,i,i) for i in range(SIZE)]\n",
    "end = time.perf_counter()\n",
    "print(end-start)"
   ]
  },
  {
   "cell_type": "code",
   "execution_count": 32,
   "metadata": {},
   "outputs": [
    {
     "name": "stdout",
     "output_type": "stream",
     "text": [
      "DCX(a=0, b=0, c=0)\n"
     ]
    }
   ],
   "source": [
    "print(x[0])"
   ]
  }
 ],
 "metadata": {
  "kernelspec": {
   "display_name": "venv",
   "language": "python",
   "name": "python3"
  },
  "language_info": {
   "codemirror_mode": {
    "name": "ipython",
    "version": 3
   },
   "file_extension": ".py",
   "mimetype": "text/x-python",
   "name": "python",
   "nbconvert_exporter": "python",
   "pygments_lexer": "ipython3",
   "version": "3.12.7"
  }
 },
 "nbformat": 4,
 "nbformat_minor": 2
}
