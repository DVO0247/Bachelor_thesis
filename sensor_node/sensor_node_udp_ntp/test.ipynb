{
 "cells": [
  {
   "cell_type": "markdown",
   "metadata": {},
   "source": [
    "Arduino timestamps"
   ]
  },
  {
   "cell_type": "code",
   "execution_count": 60,
   "metadata": {},
   "outputs": [],
   "source": [
    "numbers_str = '''\n",
    "1734612321231772\n",
    "1734612321231791\n",
    "1734612321231810\n",
    "1734612321231829\n",
    "1734612321231847\n",
    "1734612321231866\n",
    "1734612321231885\n",
    "1734612321231904\n",
    "1734612321231923\n",
    "1734612321231942\n",
    "1734612321231961\n",
    "'''"
   ]
  },
  {
   "cell_type": "code",
   "execution_count": 41,
   "metadata": {},
   "outputs": [],
   "source": [
    "numbers = numbers_str.strip().split('\\n')\n",
    "\n",
    "deltas = []\n",
    "for i in range(len(numbers)-1):\n",
    "    deltas.append(int(numbers[i+1])-int(numbers[i]))"
   ]
  },
  {
   "cell_type": "code",
   "execution_count": 42,
   "metadata": {},
   "outputs": [
    {
     "name": "stdout",
     "output_type": "stream",
     "text": [
      "Deltas: [19, 19, 19, 18, 19, 19, 19, 19, 19, 19]\n",
      "Min: 18\n",
      "Avg: 18.9\n",
      "Max: 19\n"
     ]
    }
   ],
   "source": [
    "print('Deltas:', deltas)\n",
    "print('Min:', min(deltas))\n",
    "print('Avg:', sum(deltas)/len(deltas))\n",
    "print('Max:', max(deltas))"
   ]
  },
  {
   "cell_type": "markdown",
   "metadata": {},
   "source": [
    "New Parameters calc"
   ]
  },
  {
   "cell_type": "code",
   "execution_count": 54,
   "metadata": {},
   "outputs": [
    {
     "name": "stdout",
     "output_type": "stream",
     "text": [
      "Period 1: 52.631578947368425 ms\n"
     ]
    }
   ],
   "source": [
    "freq1 = 19000\n",
    "period1 = 1/freq1\n",
    "print('Period 1:', period1*10**6, 'ms')"
   ]
  },
  {
   "cell_type": "code",
   "execution_count": 55,
   "metadata": {},
   "outputs": [
    {
     "name": "stdout",
     "output_type": "stream",
     "text": [
      "Freq 2: 14250.0\n",
      "Period 2: 70.17543859649122 ms\n"
     ]
    }
   ],
   "source": [
    "size1 = 8+4\n",
    "size2 = 8+8\n",
    "freq2 = freq1/(size2/size1)\n",
    "period2 = 1/freq2\n",
    "print('Freq 2:', freq2)\n",
    "print('Period 2:', period2*10**6, 'ms')"
   ]
  }
 ],
 "metadata": {
  "kernelspec": {
   "display_name": "Python 3",
   "language": "python",
   "name": "python3"
  },
  "language_info": {
   "codemirror_mode": {
    "name": "ipython",
    "version": 3
   },
   "file_extension": ".py",
   "mimetype": "text/x-python",
   "name": "python",
   "nbconvert_exporter": "python",
   "pygments_lexer": "ipython3",
   "version": "3.12.7"
  }
 },
 "nbformat": 4,
 "nbformat_minor": 2
}
