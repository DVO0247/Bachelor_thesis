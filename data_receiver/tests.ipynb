{
 "cells": [
  {
   "cell_type": "code",
   "execution_count": 23,
   "metadata": {},
   "outputs": [
    {
     "name": "stdout",
     "output_type": "stream",
     "text": [
      "frozenset({0, 64, 4, 36, 100, 196, 16, 144})\n"
     ]
    }
   ],
   "source": [
    "fs1 = frozenset(x**2 for x in range(100))\n",
    "fs2 = frozenset(x*2 for x in range(100))\n",
    "print(fs2&fs1)"
   ]
  },
  {
   "cell_type": "code",
   "execution_count": 2,
   "metadata": {},
   "outputs": [],
   "source": [
    "import sqlite3\n",
    "PATH = r'..\\data\\2_Projekt 1\\30_esp1\\0_pi\\53_2024-12-30T18-08-57.db'\n",
    "conn = sqlite3.connect(PATH)\n",
    "cur = conn.cursor()\n",
    "conn.close()"
   ]
  },
  {
   "cell_type": "code",
   "execution_count": 49,
   "metadata": {},
   "outputs": [
    {
     "name": "stdout",
     "output_type": "stream",
     "text": [
      "(WindowsPath('C:/VSB/Bakalářská práce/DVO0247'), WindowsPath('C:/VSB/Bakalářská práce'), WindowsPath('C:/VSB'), WindowsPath('C:/'))\n"
     ]
    }
   ],
   "source": [
    "from pathlib import Path\n",
    "print(tuple(parent for parent in Path().resolve().parents))\n"
   ]
  }
 ],
 "metadata": {
  "kernelspec": {
   "display_name": "venv",
   "language": "python",
   "name": "python3"
  },
  "language_info": {
   "codemirror_mode": {
    "name": "ipython",
    "version": 3
   },
   "file_extension": ".py",
   "mimetype": "text/x-python",
   "name": "python",
   "nbconvert_exporter": "python",
   "pygments_lexer": "ipython3",
   "version": "3.12.7"
  }
 },
 "nbformat": 4,
 "nbformat_minor": 2
}
